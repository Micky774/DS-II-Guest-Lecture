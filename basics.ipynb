{
 "cells": [
  {
   "cell_type": "code",
   "execution_count": null,
   "metadata": {},
   "outputs": [],
   "source": [
    "import numpy as np\n",
    "from scipy import stats as st\n",
    "import seaborn as sns\n",
    "import panel as pn\n",
    "from matplotlib.figure import Figure\n",
    "\n",
    "pn.extension('ipywidgets')"
   ]
  },
  {
   "cell_type": "code",
   "execution_count": null,
   "metadata": {},
   "outputs": [],
   "source": [
    "def get_d6_hist(log_n_samples=0, kde=False):\n",
    "    \"\"\"Plots histogram of a D6\"\"\"\n",
    "    \n",
    "    fig = Figure(figsize=(6, 6))\n",
    "    ax = fig.subplots()\n",
    "\n",
    "    n_samples = int(10**log_n_samples)\n",
    "    samples = np.floor(st.uniform(0, 6).rvs(n_samples)).astype(int) + 1\n",
    "    sns.histplot(samples, bins=range(1, 8), ax=ax, kde=kde, stat=\"probability\")\n",
    "    ax.set_title(f\"Histogram of a D6 with {n_samples} samples\\nEstimated Mean: {samples.mean():.2f}\")\n",
    "    return fig\n",
    "\n",
    "n_samples_widget = pn.widgets.FloatSlider(name=\"Log base 10 of the number of samples\", value=0, start=0, end=5)\n",
    "rv_plot = pn.bind(get_d6_hist, log_n_samples=n_samples_widget)\n",
    "\n",
    "rv_pane = pn.Column(n_samples_widget, rv_plot);"
   ]
  },
  {
   "cell_type": "code",
   "execution_count": null,
   "metadata": {},
   "outputs": [],
   "source": [
    "st.uniform(0, 6).ppf(.05)"
   ]
  },
  {
   "cell_type": "code",
   "execution_count": null,
   "metadata": {},
   "outputs": [],
   "source": [
    "def get_two_dist_hist(log_n_samples=0, kde=False):\n",
    "    \"\"\"Plots histogram of a D6\"\"\"\n",
    "    \n",
    "    fig = Figure(figsize=(6, 6))\n",
    "    ax = fig.subplots()\n",
    "\n",
    "    n_samples = int(10**log_n_samples)\n",
    "    def _gen_samples(loc, scale, n_samples):\n",
    "        return np.floor(st.uniform(loc, scale).rvs(n_samples)).astype(int)\n",
    "    samples_x =_gen_samples(1, 6, n_samples)\n",
    "    samples_y = np.concatenate([_gen_samples(1, 4, n_samples), _gen_samples(3, 4, n_samples)])\n",
    "    sns.histplot(samples_x, bins=range(1, 8), ax=ax, kde=kde, stat=\"probability\")\n",
    "    sns.histplot(samples_y, bins=range(1, 8), ax=ax, kde=kde, stat=\"probability\")\n",
    "    ax.set_title(f\"Histogram of a X (D6) and Y (D3 + 3) with {n_samples} samples\\nEstimated Mean of X: {samples_x.mean():.2f} and Y: {samples_y.mean():.2f}\")\n",
    "    return fig\n",
    "\n",
    "dist_plot = pn.bind(get_two_dist_hist, log_n_samples=n_samples_widget)\n",
    "\n",
    "dist_pane = pn.Column(n_samples_widget, dist_plot)"
   ]
  },
  {
   "cell_type": "code",
   "execution_count": null,
   "metadata": {},
   "outputs": [],
   "source": [
    "pn.Tabs(\n",
    "    ('RV', rv_pane),######wsasadasdsa asdadsasd\n",
    "    ('Two Dists', dist_pane),\n",
    "    dynamic=True, sizing_mode='stretch_both'\n",
    ").servable()\n"
   ]
  },
  {
   "cell_type": "code",
   "execution_count": null,
   "metadata": {},
   "outputs": [],
   "source": []
  }
 ],
 "metadata": {
  "kernelspec": {
   "display_name": "generic",
   "language": "python",
   "name": "python3"
  },
  "language_info": {
   "codemirror_mode": {
    "name": "ipython",
    "version": 3
   },
   "file_extension": ".py",
   "mimetype": "text/x-python",
   "name": "python",
   "nbconvert_exporter": "python",
   "pygments_lexer": "ipython3",
   "version": "3.10.16"
  }
 },
 "nbformat": 4,
 "nbformat_minor": 2
}
